{
 "cells": [
  {
   "cell_type": "code",
   "execution_count": 9,
   "metadata": {},
   "outputs": [],
   "source": [
    "import numpy as np\n",
    "from PIL import Image\n",
    "from tensorflow.keras.layers.experimental import preprocessing\n",
    "import os\n",
    "import glob"
   ]
  },
  {
   "cell_type": "code",
   "execution_count": 10,
   "metadata": {},
   "outputs": [],
   "source": [
    "CURRENT_PATH = os.getcwd()\n",
    "CURRENT_PATH = \"\\\\\".join(CURRENT_PATH.split('\\\\')[:-2])\n",
    "ORIGIN_PATH = \"\\\\images\\\\origin\\\\\"\n",
    "MASK_PATH = \"\\\\images\\\\masked\\\\\"\n",
    "SAVE_PATH = \"\\\\images\\\\bg_remove\\\\\""
   ]
  },
  {
   "cell_type": "code",
   "execution_count": 11,
   "metadata": {},
   "outputs": [],
   "source": [
    "def remove_background_to_alpha(image_path: str, mask_path: str, save_path: str) -> bytes:\n",
    "    image = Image.open(image_path)\n",
    "    mask = Image.open(mask_path)\n",
    "    image = image.convert(\"RGBA\")\n",
    "    mask = mask.convert(\"L\")\n",
    "    image.putalpha(mask)\n",
    "    image = image.resize((600,600))\n",
    "    print(np.asarray(image).shape)\n",
    "    res_name = image_path.split(\"\\\\\")[-1].split(\".\")[0]\n",
    "    image.save(save_path + f\"{res_name}.png\", format=\"PNG\")"
   ]
  },
  {
   "cell_type": "code",
   "execution_count": 12,
   "metadata": {},
   "outputs": [
    {
     "name": "stdout",
     "output_type": "stream",
     "text": [
      "(600, 600, 4)\n",
      "(600, 600, 4)\n",
      "(600, 600, 4)\n",
      "(600, 600, 4)\n",
      "(600, 600, 4)\n",
      "(600, 600, 4)\n",
      "(600, 600, 4)\n"
     ]
    }
   ],
   "source": [
    "for pic_name in zip(glob.glob(CURRENT_PATH + ORIGIN_PATH + \"*.jpg\"), \n",
    "                 glob.glob(CURRENT_PATH + MASK_PATH + \"*.jpg\")):\n",
    "    origin_path = pic_name[0]\n",
    "    mask_path = pic_name[1]\n",
    "    remove_background_to_alpha(origin_path, mask_path, CURRENT_PATH + SAVE_PATH)"
   ]
  }
 ],
 "metadata": {
  "kernelspec": {
   "display_name": "Python 3",
   "language": "python",
   "name": "python3"
  },
  "language_info": {
   "codemirror_mode": {
    "name": "ipython",
    "version": 3
   },
   "file_extension": ".py",
   "mimetype": "text/x-python",
   "name": "python",
   "nbconvert_exporter": "python",
   "pygments_lexer": "ipython3",
   "version": "3.11.6"
  }
 },
 "nbformat": 4,
 "nbformat_minor": 2
}
