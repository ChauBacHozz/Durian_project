{
 "cells": [
  {
   "cell_type": "code",
   "execution_count": 26,
   "metadata": {},
   "outputs": [],
   "source": [
    "import numpy as np\n",
    "from keras.preprocessing.image import ImageDataGenerator\n",
    "import matplotlib.pyplot as plt\n",
    "from PIL import Image\n",
    "from tensorflow.keras.layers.experimental import preprocessing\n",
    "import os\n",
    "import cv2\n",
    "import glob"
   ]
  },
  {
   "cell_type": "code",
   "execution_count": 27,
   "metadata": {},
   "outputs": [],
   "source": [
    "CURRENT_PATH = os.getcwd()\n",
    "CURRENT_PATH = \"\\\\\".join(CURRENT_PATH.split('\\\\')[:-2])\n",
    "PNG_PATH = \"\\\\images\\\\bg_remove\\\\\"\n",
    "BG_PATH = \"\\\\images\\\\bg\\\\\"\n",
    "SAVE_PATH = \"\\\\images\\\\result\\\\\""
   ]
  },
  {
   "cell_type": "code",
   "execution_count": 28,
   "metadata": {},
   "outputs": [],
   "source": [
    "datagen = ImageDataGenerator(\n",
    "    rotation_range=180,\n",
    "    width_shift_range=0.2,\n",
    "    height_shift_range=0.2,\n",
    "    shear_range=0.2,\n",
    "    zoom_range=(0.8, 2.0),\n",
    "    fill_mode='nearest',\n",
    "    brightness_range=[0.5, 1.5],\n",
    ")"
   ]
  },
  {
   "cell_type": "code",
   "execution_count": 29,
   "metadata": {},
   "outputs": [],
   "source": [
    "for i, bg_name in enumerate(glob.glob(CURRENT_PATH + BG_PATH + \"*jpg\")):\n",
    "    bg_img = Image.open(bg_name)\n",
    "    for j, fg_name in enumerate(glob.glob(CURRENT_PATH + PNG_PATH + \"*png\")):\n",
    "        fg_img = Image.open(fg_name)\n",
    "        fg_img = np.asarray(fg_img).reshape(1,600,600,4)\n",
    "        for k in range(30):\n",
    "            n = fg_name.split('\\\\')[-1].split('.')[0]\n",
    "            bg = Image.fromarray(np.copy(np.asarray(bg_img)))\n",
    "            img = next(datagen.flow(fg_img))[0]\n",
    "            plt.imsave(CURRENT_PATH + SAVE_PATH + f\"masked\\\\BG{i}_FG{j}_AUG{k}.jpg\", img[:,:,3]/255, cmap=\"gray\")\n",
    "            img = Image.fromarray(img.astype('uint8'), 'RGBA')\n",
    "            bg.paste(img, (0, 0), img)\n",
    "            bg.save(CURRENT_PATH + SAVE_PATH + f\"images\\\\BG{i}_FG{j}_AUG{k}.jpg\")\n",
    "    break"
   ]
  }
 ],
 "metadata": {
  "kernelspec": {
   "display_name": "Python 3",
   "language": "python",
   "name": "python3"
  },
  "language_info": {
   "codemirror_mode": {
    "name": "ipython",
    "version": 3
   },
   "file_extension": ".py",
   "mimetype": "text/x-python",
   "name": "python",
   "nbconvert_exporter": "python",
   "pygments_lexer": "ipython3",
   "version": "3.11.6"
  }
 },
 "nbformat": 4,
 "nbformat_minor": 2
}
